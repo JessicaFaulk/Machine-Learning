{
  "nbformat": 4,
  "nbformat_minor": 0,
  "metadata": {
    "colab": {
      "provenance": [],
      "authorship_tag": "ABX9TyP0yvbZrj5ZcJdSMvPdT3Bb",
      "include_colab_link": true
    },
    "kernelspec": {
      "name": "python3",
      "display_name": "Python 3"
    },
    "language_info": {
      "name": "python"
    }
  },
  "cells": [
    {
      "cell_type": "markdown",
      "metadata": {
        "id": "view-in-github",
        "colab_type": "text"
      },
      "source": [
        "<a href=\"https://colab.research.google.com/github/JessicaFaulk/Machine-Learning/blob/main/Regression_Tree.ipynb\" target=\"_parent\"><img src=\"https://colab.research.google.com/assets/colab-badge.svg\" alt=\"Open In Colab\"/></a>"
      ]
    },
    {
      "cell_type": "code",
      "execution_count": 2,
      "metadata": {
        "colab": {
          "base_uri": "https://localhost:8080/"
        },
        "id": "PyjEmiiPSJGk",
        "outputId": "7ba13350-9b93-463c-a641-24eb9f7b4972"
      },
      "outputs": [
        {
          "output_type": "stream",
          "name": "stdout",
          "text": [
            "<class 'pandas.core.frame.DataFrame'>\n",
            "RangeIndex: 506 entries, 0 to 505\n",
            "Data columns (total 14 columns):\n",
            " #   Column     Non-Null Count  Dtype  \n",
            "---  ------     --------------  -----  \n",
            " 0   CRIM       506 non-null    float64\n",
            " 1   ZN         506 non-null    float64\n",
            " 2   INDUS      506 non-null    float64\n",
            " 3   CHAS       506 non-null    int64  \n",
            " 4   NOX        506 non-null    float64\n",
            " 5   RM         506 non-null    float64\n",
            " 6   AGE        506 non-null    float64\n",
            " 7   DIS        506 non-null    float64\n",
            " 8   RAD        506 non-null    int64  \n",
            " 9   TAX        506 non-null    int64  \n",
            " 10  PTRATIO    506 non-null    float64\n",
            " 11  LSTAT      506 non-null    float64\n",
            " 12  MEDV       506 non-null    float64\n",
            " 13  CAT. MEDV  506 non-null    int64  \n",
            "dtypes: float64(10), int64(4)\n",
            "memory usage: 55.5 KB\n"
          ]
        }
      ],
      "source": [
        "# import packages needed for data cleaning and pre-processing\n",
        "import pandas as pd\n",
        "from sklearn.model_selection import train_test_split\n",
        "\n",
        "## import package for creating the model\n",
        "from sklearn.tree import DecisionTreeRegressor\n",
        "\n",
        "\n",
        "#Import Data Needed: Boston House\n",
        "house = pd.read_csv(\"https://raw.githubusercontent.com/JessicaFaulk/Machine-Learning/refs/heads/main/Regression%20Tree/BostonHousing.csv\")\n",
        "\n",
        "house.info()"
      ]
    },
    {
      "cell_type": "markdown",
      "source": [
        "- There's 14 columns of data provided here. Appears there are no null values to drop.\n",
        "- CHAS is a categorical variable"
      ],
      "metadata": {
        "id": "L6vXXaUyYVFX"
      }
    },
    {
      "cell_type": "code",
      "source": [
        "house = house.drop(columns = ['CAT. MEDV'])"
      ],
      "metadata": {
        "id": "e9cdEm2HAy4F"
      },
      "execution_count": 6,
      "outputs": []
    },
    {
      "cell_type": "code",
      "source": [
        "# CHAS is categorical but what kind? looks to be binary. We are doing linear reg first so stay with the 1/0\n",
        "house.CHAS.value_counts()"
      ],
      "metadata": {
        "colab": {
          "base_uri": "https://localhost:8080/",
          "height": 178
        },
        "id": "4hefCUQoAzfH",
        "outputId": "49ddd56c-9022-47e6-8510-8d7c1f1e571c"
      },
      "execution_count": 8,
      "outputs": [
        {
          "output_type": "execute_result",
          "data": {
            "text/plain": [
              "CHAS\n",
              "0    471\n",
              "1     35\n",
              "Name: count, dtype: int64"
            ],
            "text/html": [
              "<div>\n",
              "<style scoped>\n",
              "    .dataframe tbody tr th:only-of-type {\n",
              "        vertical-align: middle;\n",
              "    }\n",
              "\n",
              "    .dataframe tbody tr th {\n",
              "        vertical-align: top;\n",
              "    }\n",
              "\n",
              "    .dataframe thead th {\n",
              "        text-align: right;\n",
              "    }\n",
              "</style>\n",
              "<table border=\"1\" class=\"dataframe\">\n",
              "  <thead>\n",
              "    <tr style=\"text-align: right;\">\n",
              "      <th></th>\n",
              "      <th>count</th>\n",
              "    </tr>\n",
              "    <tr>\n",
              "      <th>CHAS</th>\n",
              "      <th></th>\n",
              "    </tr>\n",
              "  </thead>\n",
              "  <tbody>\n",
              "    <tr>\n",
              "      <th>0</th>\n",
              "      <td>471</td>\n",
              "    </tr>\n",
              "    <tr>\n",
              "      <th>1</th>\n",
              "      <td>35</td>\n",
              "    </tr>\n",
              "  </tbody>\n",
              "</table>\n",
              "</div><br><label><b>dtype:</b> int64</label>"
            ]
          },
          "metadata": {},
          "execution_count": 8
        }
      ]
    },
    {
      "cell_type": "code",
      "source": [
        "#split into predictor and response variables x and y\n",
        "X = house.drop(columns = ['MEDV'])\n",
        "y = house.MEDV"
      ],
      "metadata": {
        "id": "UoFJXBzrDdZZ"
      },
      "execution_count": 9,
      "outputs": []
    },
    {
      "cell_type": "code",
      "source": [
        "# split the dataset into testing and training sets\n",
        "x_train, x_test, y_train, y_test = train_test_split(X, y, test_size = 0.3, random_state = 1)"
      ],
      "metadata": {
        "id": "7bQWnydODdJg"
      },
      "execution_count": 10,
      "outputs": []
    },
    {
      "cell_type": "code",
      "source": [],
      "metadata": {
        "id": "zpDOfnKNDc5J"
      },
      "execution_count": null,
      "outputs": []
    },
    {
      "cell_type": "code",
      "source": [],
      "metadata": {
        "id": "4vSOdd49Dcmw"
      },
      "execution_count": null,
      "outputs": []
    },
    {
      "cell_type": "code",
      "source": [],
      "metadata": {
        "id": "LBWffni2DbnJ"
      },
      "execution_count": null,
      "outputs": []
    },
    {
      "cell_type": "code",
      "source": [
        "advert = pd.read_csv(\"https://raw.githubusercontent.com/JessicaFaulk/Machine-Learning/refs/heads/main/Regression%20Tree/advertising.csv\")\n",
        "advert.info()"
      ],
      "metadata": {
        "colab": {
          "base_uri": "https://localhost:8080/"
        },
        "id": "VQCA5BzHXzxV",
        "outputId": "9260915a-3e83-4eb1-955c-4e4a1f809bbf"
      },
      "execution_count": 12,
      "outputs": [
        {
          "output_type": "stream",
          "name": "stdout",
          "text": [
            "<class 'pandas.core.frame.DataFrame'>\n",
            "RangeIndex: 200 entries, 0 to 199\n",
            "Data columns (total 4 columns):\n",
            " #   Column     Non-Null Count  Dtype  \n",
            "---  ------     --------------  -----  \n",
            " 0   TV         200 non-null    float64\n",
            " 1   Radio      200 non-null    float64\n",
            " 2   Newspaper  200 non-null    float64\n",
            " 3   Sales      200 non-null    float64\n",
            "dtypes: float64(4)\n",
            "memory usage: 6.4 KB\n"
          ]
        }
      ]
    }
  ]
}